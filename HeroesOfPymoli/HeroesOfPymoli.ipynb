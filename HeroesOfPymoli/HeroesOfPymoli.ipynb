{
 "cells": [
  {
   "cell_type": "code",
   "execution_count": null,
   "metadata": {},
   "outputs": [],
   "source": [
    "# Import Dependencies\n",
    "import pandas as pd\n",
    "import numpy as np"
   ]
  },
  {
   "cell_type": "code",
   "execution_count": null,
   "metadata": {},
   "outputs": [],
   "source": [
    "# Files to Load\n",
    "file_to_load = \"Resources/purchase_data.csv\""
   ]
  },
  {
   "cell_type": "code",
   "execution_count": null,
   "metadata": {
    "scrolled": true
   },
   "outputs": [],
   "source": [
    "# Read csv/Store into Pandas\n",
    "purchase_data = pd.read_csv(file_to_load)"
   ]
  },
  {
   "cell_type": "code",
   "execution_count": null,
   "metadata": {},
   "outputs": [],
   "source": [
    "# Player Count\n",
    "\n",
    "# Total Players\n",
    "total = len(purchase_data[\"SN\"].unique())\n",
    "total_players = pd.DataFrame({\"Total Players\": total}, index=[0])\n",
    "total_players"
   ]
  },
  {
   "cell_type": "code",
   "execution_count": null,
   "metadata": {},
   "outputs": [],
   "source": [
    "# Purchasing Analysis (Total)\n",
    "\n",
    "# Items\n",
    "items = purchase_data[\"Item Name\"].unique()\n",
    "\n",
    "# Count Unique Items\n",
    "item_count = len(purchase_data[\"Item Name\"].unique())\n",
    "\n",
    "# Calculate Average Price\n",
    "avg_price = purchase_data[\"Price\"].mean()\n",
    "\n",
    "# Total Purchases\n",
    "purchases = purchase_data[\"Item Name\"].count()\n",
    "\n",
    "# Total Revenue\n",
    "total_revenue = purchase_data[\"Price\"].sum()\n",
    "\n",
    "# Summary\n",
    "summary = pd.DataFrame({\"Number of Unique Items\": [item_count],\n",
    "                        \"Average Price\": avg_price,\n",
    "                        \"Number of Purchases\": purchases,\n",
    "                        \"Total Revenue\": total_revenue})\n",
    "\n",
    "# Format Average Price & Total Revenue\n",
    "summary[\"Average Price\"] = summary[\"Average Price\"].astype(float).map(\"${:,.2f}\".format)\n",
    "summary[\"Total Revenue\"] = summary[\"Total Revenue\"].astype(float).map(\"${:,.2f}\".format)\n",
    "summary.head()"
   ]
  },
  {
   "cell_type": "code",
   "execution_count": null,
   "metadata": {},
   "outputs": [],
   "source": [
    "# Gender Demographics\n",
    "\n",
    "# Group By Gender\n",
    "gender_group = purchase_data.groupby([\"Gender\"])\n",
    "unique_gender = gender_group.nunique()\n",
    "\n",
    "# Count Players\n",
    "count = unique_gender[\"SN\"].unique()\n",
    "\n",
    "# Get Total\n",
    "gender_total = unique_gender[\"SN\"].sum()\n",
    "\n",
    "# Get Percentage\n",
    "percentage = unique_gender[\"SN\"]/gender_total\n",
    "\n",
    "# Purchasing Analysis (Gender)\n",
    "gender_summary = pd.DataFrame({\"Total Count\": count,\n",
    "                               \"Percentage of Players\": percentage})\n",
    "\n",
    "# Format Percentage\n",
    "gender_summary[\"Percentage of Players\"] = gender_summary[\"Percentage of Players\"].map(\"{:,.2%}\".format)\n",
    "gender_summary"
   ]
  },
  {
   "cell_type": "code",
   "execution_count": null,
   "metadata": {},
   "outputs": [],
   "source": [
    "# Purchasing Analysis (Gender)\n",
    "\n",
    "# Count Purchases\n",
    "purchase_count = gender_group[\"Gender\"].count()\n",
    "\n",
    "# Average Purchase Price\n",
    "avg_purchase_price = gender_group[\"Price\"].mean()\n",
    "\n",
    "# Total Purchase Value\n",
    "total_purchase_value = gender_group[\"Price\"].sum()\n",
    "\n",
    "# Average Purchase Total/Person/Gender\n",
    "avg_purchase_total = total_purchase_value / count\n",
    "\n",
    "# Gender Purchasing Analysis\n",
    "gender_purchase_analysis = pd.DataFrame({\"Purchase Count\": purchase_count, \n",
    "                                        \"Average Purchase Price\": avg_purchase_price,\n",
    "                                        \"Total Purchase Value\": total_purchase_value,\n",
    "                                        \"Avg Purchase Total/Person/Gender\": avg_purchase_total})\n",
    "\n",
    "# Format\n",
    "gender_purchase_analysis[\"Average Purchase Price\"] = gender_purchase_analysis[\"Average Purchase Price\"].map(\"${:,.2f}\".format)\n",
    "gender_purchase_analysis[\"Total Purchase Value\"] = gender_purchase_analysis[\"Total Purchase Value\"].map(\"${:,.2f}\".format)\n",
    "gender_purchase_analysis[\"Avg Purchase Total/Person/Gender\"] = gender_purchase_analysis[\"Avg Purchase Total/Person/Gender\"].map(\"${:,.2f}\".format)\n",
    "gender_purchase_analysis"
   ]
  },
  {
   "cell_type": "code",
   "execution_count": null,
   "metadata": {},
   "outputs": [],
   "source": [
    "# Age Demographics\n",
    "\n",
    "age_demo_df = pd.DataFrame(purchase_data[{\"Age\", \"SN\", \"Price\"}])\n",
    "\n",
    "# Bin Age Groups\n",
    "bins = [0, 9, 14, 19, 24, 29, 34, 39, 100]\n",
    "ages = ['<10', '10-14', '15-19', '20-24', '25-29', '30-34', '35-39', '40+']\n",
    "age_demo_df[\"Age Ranges\"] = pd.cut(age_demo_df[\"Age\"], bins, labels=ages)\n",
    "\n",
    "# Group/Count by Age Groups\n",
    "age_group_purchases = age_demo_df.groupby([\"Age Ranges\"])\n",
    "count = age_group_purchases[\"Age Ranges\"].count()\n",
    "\n",
    "# Unique Player Count\n",
    "unique_player = age_group_purchases[\"SN\"].nunique()\n",
    "\n",
    "# Unique Total\n",
    "unique_total = age_group_purchases[\"SN\"].value_counts()\n",
    "\n",
    "# Percentage of Players\n",
    "percent_players = unique_player / unique_total.count()\n",
    "\n",
    "# Average Purchase Price\n",
    "avg_purchase_price = age_group_purchases[\"Price\"].mean()\n",
    "\n",
    "#Total Purchase Value\n",
    "total_value = age_group_purchases[\"Price\"].sum()\n",
    "\n",
    "# Average Purchase Total/Person/Age Group\n",
    "avg_purchases = total_value / unique_player\n",
    "\n",
    "# Summary Age Demographics\n",
    "age_purchase_analysis = pd.DataFrame({\"Total Count\": unique_player, \n",
    "                                        \"Percentage of Players\": percent_players})\n",
    "\n",
    "# Formatting\n",
    "age_purchase_analysis[\"Percentage of Players\"] = age_purchase_analysis[\"Percentage of Players\"].map(\"{:,.2%}\".format)\n",
    "age_purchase_analysis"
   ]
  },
  {
   "cell_type": "code",
   "execution_count": null,
   "metadata": {},
   "outputs": [],
   "source": [
    "# Purchasing Analysis (Age)\n",
    "\n",
    "# Summary Purchasing Analysis (Age)\n",
    "age_purchase_analysis = pd.DataFrame({\"Purchase Count\": count,\n",
    "                                      \"Average Purchase Price\": avg_purchase_price,\n",
    "                                     \"Total Purchase Value\": total_value,\n",
    "                                     \"Avg Total Purchase per Person\": avg_purchases})\n",
    "# Formatting\n",
    "age_purchase_analysis[\"Average Purchase Price\"] = age_purchase_analysis[\"Average Purchase Price\"].map(\"${:,.2f}\".format)\n",
    "age_purchase_analysis[\"Total Purchase Value\"] = age_purchase_analysis[\"Total Purchase Value\"].map(\"${:,.2f}\".format)\n",
    "age_purchase_analysis[\"Avg Total Purchase per Person\"] = age_purchase_analysis[\"Avg Total Purchase per Person\"].map(\"${:,.2f}\".format)\n",
    "age_purchase_analysis"
   ]
  },
  {
   "cell_type": "code",
   "execution_count": null,
   "metadata": {},
   "outputs": [],
   "source": [
    "# Top Spenders\n",
    "\n",
    "# Create DF for All Spenders\n",
    "players_df = pd.DataFrame(purchase_data[{\"SN\", \"Price\"}])\n",
    "players_df\n",
    "\n",
    "# Count Players\n",
    "sn_count = players_df[\"SN\"].value_counts().reset_index()\n",
    "sn_count.columns = [\"SN\", \"Purchase Count\"]\n",
    "sn_count\n",
    "\n",
    "# Average Purchase Price\n",
    "avg_price_df = players_df.groupby(['SN']).mean()\n",
    "avg_price_df.index\n",
    "\n",
    "# Total Purchase Value\n",
    "total_players_spend_df = players_df.groupby(['SN']).sum()\n",
    "\n",
    "# Top Spenders Summary\n",
    "merge_df = pd.merge(sn_count, avg_price_df, on=\"SN\")\n",
    "merge_df = pd.merge(merge_df, total_players_spend_df, on=\"SN\")\n",
    "merge_df.columns = [\"SN\", \"Purchase Count\", \"Average Purchase Price\", \"Total Purchase Value\"]\n",
    "\n",
    "# Format Average Purchase Price\n",
    "merge_df[\"Average Purchase Price\"] = merge_df[\"Average Purchase Price\"].map(\"${:,.2f}\".format)\n",
    "\n",
    "\n",
    "# Format Total Purchase Value\n",
    "merge_df[\"Total Purchase Value\"] = merge_df[\"Total Purchase Value\"].map(\"${:,.2f}\".format)\n",
    "\n",
    "\n",
    "# Top Five Spenders\n",
    "top_spenders_df = merge_df.nlargest(5, \"Purchase Count\")\n",
    "top_spenders_df"
   ]
  },
  {
   "cell_type": "code",
   "execution_count": null,
   "metadata": {},
   "outputs": [],
   "source": [
    "# Most Popular Items\n",
    "\n",
    "items_df = purchase_data.groupby([\"Item ID\", \"Item Name\"])\n",
    "#items_df.head()"
   ]
  },
  {
   "cell_type": "code",
   "execution_count": null,
   "metadata": {},
   "outputs": [],
   "source": [
    "counts_df = items_df[\"Item ID\"].count()\n",
    "#count"
   ]
  },
  {
   "cell_type": "code",
   "execution_count": null,
   "metadata": {},
   "outputs": [],
   "source": [
    "prices_df = items_df[\"Price\"].mean()\n",
    "#prices_df"
   ]
  },
  {
   "cell_type": "code",
   "execution_count": null,
   "metadata": {},
   "outputs": [],
   "source": [
    "total_df = items_df[\"Price\"].sum()\n",
    "#total_df"
   ]
  },
  {
   "cell_type": "code",
   "execution_count": null,
   "metadata": {},
   "outputs": [],
   "source": [
    "# New DF\n",
    "new_df = pd.DataFrame({\"Purchase Count\": counts_df,\n",
    "                         \"Price\": prices_df,\n",
    "                         \"Total Purchase Value\": total_df})\n",
    "#new_df"
   ]
  },
  {
   "cell_type": "code",
   "execution_count": null,
   "metadata": {},
   "outputs": [],
   "source": [
    "items_df = new_df.sort_values(['Purchase Count'],ascending=False)\n",
    "#items_df"
   ]
  },
  {
   "cell_type": "code",
   "execution_count": null,
   "metadata": {},
   "outputs": [],
   "source": [
    "# Format Total Purchase Value\n",
    "items_df['Total Purchase Value'] = items_df['Total Purchase Value'].map('$ {:,.2f}'.format)\n",
    "#items_df"
   ]
  },
  {
   "cell_type": "code",
   "execution_count": null,
   "metadata": {},
   "outputs": [],
   "source": [
    "items_df[\"Price\"] = items_df[\"Price\"].map(\"${:,.2f}\".format)\n",
    "#items_df"
   ]
  },
  {
   "cell_type": "code",
   "execution_count": null,
   "metadata": {},
   "outputs": [],
   "source": [
    "top_five = items_df.head(5)\n",
    "top_five"
   ]
  },
  {
   "cell_type": "code",
   "execution_count": null,
   "metadata": {},
   "outputs": [],
   "source": [
    "# Most Profitable Items\n",
    "\n",
    "mpi_df = purchase_data.groupby([\"Item ID\", \"Item Name\"])\n",
    "#items_df.head()"
   ]
  },
  {
   "cell_type": "code",
   "execution_count": null,
   "metadata": {},
   "outputs": [],
   "source": [
    "counts_df = mpi_df[\"Item ID\"].count()\n",
    "#count"
   ]
  },
  {
   "cell_type": "code",
   "execution_count": null,
   "metadata": {},
   "outputs": [],
   "source": [
    "prices_df = mpi_df[\"Price\"].mean()\n",
    "#prices_df"
   ]
  },
  {
   "cell_type": "code",
   "execution_count": null,
   "metadata": {},
   "outputs": [],
   "source": [
    "total_values_df = mpi_df[\"Price\"].sum()\n",
    "#total_values_df"
   ]
  },
  {
   "cell_type": "code",
   "execution_count": null,
   "metadata": {},
   "outputs": [],
   "source": [
    "# New DF\n",
    "new_df = pd.DataFrame({\"Purchase Count\": counts_df,\n",
    "                         \"Price\": prices_df,\n",
    "                         \"Total Purchase Value\": total_values_df})\n",
    "#new_df"
   ]
  },
  {
   "cell_type": "code",
   "execution_count": null,
   "metadata": {},
   "outputs": [],
   "source": [
    "most_profitable_df = new_df.sort_values([\"Total Purchase Value\"],ascending=False)\n",
    "#most_profitable_df"
   ]
  },
  {
   "cell_type": "code",
   "execution_count": null,
   "metadata": {},
   "outputs": [],
   "source": [
    "# Format Total Purchase Value\n",
    "most_profitable_df['Total Purchase Value'] = most_profitable_df['Total Purchase Value'].map('$ {:,.2f}'.format)\n",
    "#most_profitable_df"
   ]
  },
  {
   "cell_type": "code",
   "execution_count": null,
   "metadata": {},
   "outputs": [],
   "source": [
    "most_profitable_df[\"Price\"] = most_profitable_df[\"Price\"].map(\"${:,.2f}\".format)\n",
    "most_profitable_df"
   ]
  }
 ],
 "metadata": {
  "kernelspec": {
   "display_name": "Python 3",
   "language": "python",
   "name": "python3"
  },
  "language_info": {
   "codemirror_mode": {
    "name": "ipython",
    "version": 3
   },
   "file_extension": ".py",
   "mimetype": "text/x-python",
   "name": "python",
   "nbconvert_exporter": "python",
   "pygments_lexer": "ipython3",
   "version": "3.6.10"
  }
 },
 "nbformat": 4,
 "nbformat_minor": 4
}
